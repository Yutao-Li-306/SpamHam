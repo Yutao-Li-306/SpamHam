{
 "cells": [
  {
   "cell_type": "code",
   "execution_count": null,
   "id": "8f6f0c5b",
   "metadata": {},
   "outputs": [],
   "source": [
    "# decision tree method\n",
    "import pandas as pd\n",
    "import numpy as np\n",
    "import matplotlib as plt\n",
    "from sklearn.model_selection import train_test_split\n"
   ]
  },
  {
   "cell_type": "code",
   "execution_count": null,
   "id": "292e955c",
   "metadata": {},
   "outputs": [],
   "source": [
    "# read in the datasets and concat together\n",
    "df_1 = pd.read_csv('email_spam_dataset/lingSpam.csv', usecols=[\"Body\", \"Label\"])\n",
    "df_2 = pd.read_csv('email_spam_dataset/enronSpamSubset.csv', usecols=[\"Body\", \"Label\"])\n",
    "df_3 = pd.read_csv('email_spam_dataset/completeSpamAssassin.csv', usecols=[\"Body\", \"Label\"])"
   ]
  },
  {
   "cell_type": "code",
   "execution_count": null,
   "id": "4f3266fa",
   "metadata": {},
   "outputs": [],
   "source": [
    "df = pd.concat([df_1, df_2, df_3], ignore_index=True)\n",
    "df = df.dropna()\n",
    "\n",
    "# df.head()"
   ]
  },
  {
   "cell_type": "code",
   "execution_count": null,
   "id": "9c3cfc0f",
   "metadata": {},
   "outputs": [],
   "source": [
    "# get rid of \"Subject: \" in front of every email\n",
    "df[\"Body\"] = [text[9:].lower() for text in df[\"Body\"]]\n",
    "\n",
    "# df.head()"
   ]
  },
  {
   "cell_type": "code",
   "execution_count": null,
   "id": "934a0059",
   "metadata": {},
   "outputs": [],
   "source": []
  },
  {
   "cell_type": "code",
   "execution_count": null,
   "id": "bf59fea2",
   "metadata": {},
   "outputs": [],
   "source": []
  }
 ],
 "metadata": {
  "kernelspec": {
   "display_name": "Python 3 (ipykernel)",
   "language": "python",
   "name": "python3"
  },
  "language_info": {
   "codemirror_mode": {
    "name": "ipython",
    "version": 3
   },
   "file_extension": ".py",
   "mimetype": "text/x-python",
   "name": "python",
   "nbconvert_exporter": "python",
   "pygments_lexer": "ipython3",
   "version": "3.10.9"
  }
 },
 "nbformat": 4,
 "nbformat_minor": 5
}
